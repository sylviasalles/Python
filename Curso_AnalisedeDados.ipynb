{
 "cells": [
  {
   "cell_type": "markdown",
   "id": "09280704-bb7c-48aa-9250-c6ab7c7ae4c8",
   "metadata": {},
   "source": [
    "## Análise de Dados - ênfase na área de Oceanografia Física\n",
    "#### Gerar séries temporais de temperatura, onda e marés utilizando a linguagem de programação Python\n"
   ]
  },
  {
   "cell_type": "markdown",
   "id": "cca379ab-6d5f-4432-a934-00600c4712ca",
   "metadata": {},
   "source": [
    "##### Dados obtidos na plataforma ERAS5: https://cds.climate.copernicus.eu/datasets/reanalysis-era5-single-levels?tab=download\n",
    "##### Outros sites para obter dados: \n",
    "##### Simcosta: https://simcosta.furg.br/home ; \n",
    "##### Inmet: https://bdmep.inmet.gov.br/# ; \n",
    "##### Pnboia: https://www.marinha.mil.br/chm/dados-do-goos-brasil/pnboia-mapa"
   ]
  },
  {
   "cell_type": "markdown",
   "id": "3cec336a-6127-401e-805d-77f218d6b502",
   "metadata": {},
   "source": [
    "##### A análise de dados começa organizando os dados na planilha excel e ver que tipos de dados tem ali\n",
    "##### 1° organizar as colunas: clica na coluna A -> dados -> texto para coluna -> delimitado -> ; "
   ]
  },
  {
   "cell_type": "code",
   "execution_count": null,
   "id": "e0b349f7-45a7-44d7-9c29-159818a60770",
   "metadata": {},
   "outputs": [],
   "source": [
    "import pandas as pd #as = como #permite abrir nossos arquivos csv\n",
    "import matplotlib.pyplot as plt #plota as series temporais\n",
    "import matplotlib.dates as mdates #vai arrumar a data"
   ]
  },
  {
   "cell_type": "code",
   "execution_count": null,
   "id": "44013e31-5dd6-4cf6-96e3-db4aeb147ff4",
   "metadata": {},
   "outputs": [],
   "source": [
    "#  QUERO LOCALIZAR MEU ARQUIVO QUE IREI ANALISAR \n",
    "achando_arquivo = 'C:/Sylvia/Cursos/Analise_de_dados/dados_test.csv' #a \\ tem que ser invertida /\n",
    "lendo_arquivo = pd.read_csv(achando_arquivo, sep=';')\n",
    "print(lendo_arquivo)"
   ]
  },
  {
   "cell_type": "code",
   "execution_count": null,
   "id": "6ca8bc0e-b482-4979-a171-d0f71791c86f",
   "metadata": {},
   "outputs": [],
   "source": [
    "#VAMOS LER A COLUNA TEMPO\n",
    "#tempo = lendo_arquivo['time']\n",
    "\n",
    "tempo = pd.to_datetime(lendo_arquivo['Time'],format = '%d/%m/%Y %H:%M') #PERMITE ENTENDER A COLUNA X\n",
    "\n",
    "#SEM A FUNÇÃO DATETIME, O EIXO X FICA POLUIDO"
   ]
  },
  {
   "cell_type": "code",
   "execution_count": null,
   "id": "5e39e505-a09c-43e9-8bd8-de3f8eceb002",
   "metadata": {
    "scrolled": true
   },
   "outputs": [],
   "source": [
    "#AGORA VAMOS LER A TEMPERATURA\n",
    "temperatura = lendo_arquivo['t2m'] -273.15 #Kelvin @ Celsius"
   ]
  },
  {
   "cell_type": "code",
   "execution_count": null,
   "id": "781b339e-2d48-47b3-8c49-a320463e2792",
   "metadata": {
    "scrolled": true
   },
   "outputs": [],
   "source": [
    "plt.figure(figsize=(15,5)) #IRÁ ABRIR UMA NOVA FIGURA E PERMITIRÁ VC COMPARAR A FIGURA ANTIGA\n",
    "plt.plot(tempo,temperatura)\n",
    "\n",
    "#VAMOS AJEITAR A FORMATAÇÃO DA DATA, POIS ESTÁ ANO,MES,DIA\n",
    "#PRECISAMOS COLOCAR DA FORMA QUE USAMOS NO BR DIA/MES/ANO\n",
    "\n",
    "plt.gca().xaxis.set_major_formatter(mdates.DateFormatter('%d/%m/%Y')) #SÓ PARA O PLOT SAIR DA MANEIRA QUE QUEREMOS\n",
    "plt.gca().xaxis.set_major_locator(mdates.DayLocator(interval=2))#CRIA UM INSTERVALO A CADA X DIAS, DEPENDE DO INTERVALO\n",
    "plt.gcf().autofmt_xdate() #ROTACIONA O EIXO X, AS DATAS FICAM MAIS CLARAS \n",
    "\n",
    "plt.xlabel('Tempo (mês)')\n",
    "plt.ylabel('Temperatura (ºC)')\n",
    "plt.title('Série Temporal de Temperatura - Rio Grande-RS - 2024, fonte: INMET',fontsize=15)\n",
    "plt.grid(alpha=0.3,linestyle='--')"
   ]
  },
  {
   "cell_type": "code",
   "execution_count": null,
   "id": "3ffabe4b-1cf1-474e-af10-6c7787b61f97",
   "metadata": {},
   "outputs": [],
   "source": [
    "#ANALISANDO OS MÁXIMOS E MÍNIMOS DA VARIÁVEL!\n",
    "temperatura_minima = min(temperatura)\n",
    "temperatura_max = max(temperatura)"
   ]
  },
  {
   "cell_type": "code",
   "execution_count": null,
   "id": "3bb5993f-acca-4c74-a984-11be96ddbe46",
   "metadata": {},
   "outputs": [],
   "source": [
    "temp_media = np.mean(temperatura)"
   ]
  },
  {
   "cell_type": "code",
   "execution_count": null,
   "id": "20023863-9a30-4be2-9c36-a61239443185",
   "metadata": {},
   "outputs": [],
   "source": [
    "temperatura2 = lendo_arquivo['d2m'] -273.15 #Kelvin @ Celsius"
   ]
  },
  {
   "cell_type": "code",
   "execution_count": null,
   "id": "88fc6ec3-621b-4ad1-8aa9-37ed6fcf26bd",
   "metadata": {},
   "outputs": [],
   "source": [
    "plt.figure(figsize=(15,5),dpi=150)\n",
    "plt.plot(tempo,temperatura,label='Temperatura Máxima')\n",
    "plt.plot(tempo,temperatura2,label='Temperatura Mínima') #VAMOS FINGIR QUE É TEMP MIN\n",
    "plt.legend(loc='upper left')\n",
    "plt.gca().xaxis.set_major_formatter(mdates.DateFormatter('%d/%m/%Y')) #SÓ PARA O PLOT SAIR DA MANEIRA QUE QUEREMOS\n",
    "plt.gca().xaxis.set_major_locator(mdates.DayLocator(interval=2))#CRIA UM INSTERVALO A CADA X DIAS, DEPENDE DO INTERVAL\n",
    "plt.gcf().autofmt_xdate() #ROTACIONA O EIXO X, AS DATAS FICAM MAIS CLARAS \n",
    "plt.xlabel('Tempo (mês)')\n",
    "plt.ylabel('Temperatura (ºC)')\n",
    "plt.title('Série Temporal de Temperatura - Rio Grande-RS - 2024, fonte: INMET',fontsize=15)\n",
    "plt.grid(alpha=0.2,linestyle=':')"
   ]
  },
  {
   "cell_type": "code",
   "execution_count": null,
   "id": "4c2eac19-d8bd-4063-8c61-85af3f30ae09",
   "metadata": {},
   "outputs": [],
   "source": [
    "#POSIÇÕES PARA COLOCAR NO LOC DO PLT.LEGEND()\n",
    "\"\"\"\n",
    "best\n",
    "\tupper right\n",
    "\tupper left\n",
    "\tlower left\n",
    "\tlower right\n",
    "\tright\n",
    "\tcenter left\n",
    "\tcenter right\n",
    "\tlower center\n",
    "\tupper center\n",
    "\tcenter\n",
    "\"\"\"    "
   ]
  }
 ],
 "metadata": {
  "kernelspec": {
   "display_name": "Python 3 (ipykernel)",
   "language": "python",
   "name": "python3"
  },
  "language_info": {
   "codemirror_mode": {
    "name": "ipython",
    "version": 3
   },
   "file_extension": ".py",
   "mimetype": "text/x-python",
   "name": "python",
   "nbconvert_exporter": "python",
   "pygments_lexer": "ipython3",
   "version": "3.11.4"
  }
 },
 "nbformat": 4,
 "nbformat_minor": 5
}
